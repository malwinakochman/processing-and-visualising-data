{
 "cells": [
  {
   "cell_type": "code",
   "execution_count": null,
   "metadata": {},
   "outputs": [],
   "source": [
    "import pandas as pd\n",
    "\n",
    "airlines_df = pd.read_csv('krk-airlines.csv')\n",
    "flights_df = pd.read_csv('krk-flights.csv')\n",
    "passengers_df = pd.read_csv('krk-passengers.csv')"
   ]
  }
 ],
 "metadata": {
  "language_info": {
   "name": "python"
  }
 },
 "nbformat": 4,
 "nbformat_minor": 2
}
